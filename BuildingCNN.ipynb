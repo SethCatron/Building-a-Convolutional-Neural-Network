{
  "cells": [
    {
      "cell_type": "markdown",
      "metadata": {
        "id": "20d7e173"
      },
      "source": [
        "# Imports"
      ],
      "id": "20d7e173"
    },
    {
      "cell_type": "code",
      "execution_count": null,
      "metadata": {
        "colab": {
          "base_uri": "https://localhost:8080/"
        },
        "id": "b4d9bb29",
        "outputId": "7d1fbbf0-1e96-486f-9ec7-d035bca495d6"
      },
      "outputs": [
        {
          "output_type": "stream",
          "name": "stdout",
          "text": [
            "Looking in indexes: https://pypi.org/simple, https://us-python.pkg.dev/colab-wheels/public/simple/\n",
            "Requirement already satisfied: python-mnist in /usr/local/lib/python3.7/dist-packages (0.7)\n",
            "tensor([[ 1,  2,  3],\n",
            "        [ 4,  5, 23]], device='cuda:0')\n"
          ]
        }
      ],
      "source": [
        "# import \n",
        "%pip install python-mnist\n",
        "from mnist import MNIST\n",
        "\n",
        "mndata = MNIST('samples')\n",
        "\n",
        "from google.colab import drive\n",
        "\n",
        "import torch\n",
        "import torch.nn as nn\n",
        "import torch.nn.functional as F\n",
        "from torchvision.io import read_image\n",
        "from torch.utils.data import DataLoader\n",
        "from torch.utils.data import Dataset\n",
        "\n",
        "from torchvision import datasets, transforms\n",
        "\n",
        "import matplotlib.pyplot as plt\n",
        "import numpy as np\n",
        "import pandas as pd\n",
        "import os\n",
        "from datetime import datetime \n",
        "\n",
        "from sklearn.metrics import confusion_matrix\n",
        "\n",
        "y=np.array([[1, 2, 3], [4, 5, 6]])\n",
        "z=torch.from_numpy(y)\n",
        "y[1,2]=23\n",
        "\n",
        "# check device\n",
        "DEVICE = 'cuda' if torch.cuda.is_available() else 'cpu'\n",
        "if torch.cuda.is_available():\n",
        "    device = torch.device(\"cuda\")\n",
        "    onGpu=z.to(device)\n",
        "    print(onGpu)\n",
        "else:\n",
        "    print(\"no CUDA for you!\")"
      ],
      "id": "b4d9bb29"
    },
    {
      "cell_type": "markdown",
      "metadata": {
        "id": "8c2mgvfCFXak"
      },
      "source": [
        "# Mount the Drive so you can access the data"
      ],
      "id": "8c2mgvfCFXak"
    },
    {
      "cell_type": "code",
      "execution_count": null,
      "metadata": {
        "colab": {
          "base_uri": "https://localhost:8080/"
        },
        "id": "u7I6ygmeFbk1",
        "outputId": "4ab207ce-e522-4bd3-8b66-e3cd9bfa4c5d"
      },
      "outputs": [
        {
          "output_type": "stream",
          "name": "stdout",
          "text": [
            "Mounted at /content/drive\n",
            "/content/drive/MyDrive/489/CSCE489/HW3\n"
          ]
        }
      ],
      "source": [
        "drive.mount('/content/drive', force_remount=True) \n",
        "\n",
        "%cd /content/drive/MyDrive/489/CSCE489/HW3\n",
        "directory='./content/drive/MyDrive/489/CSCE489/HW3'"
      ],
      "id": "u7I6ygmeFbk1"
    },
    {
      "cell_type": "markdown",
      "metadata": {
        "id": "834607fa"
      },
      "source": [
        "# Load Dataset Files With Dataset Class"
      ],
      "id": "834607fa"
    },
    {
      "cell_type": "markdown",
      "metadata": {
        "id": "ee066da3"
      },
      "source": [
        "### Label Files\n",
        "#### The label files have a 4 byte integer for the number of items, followed by 1 unsigned byte per label "
      ],
      "id": "ee066da3"
    },
    {
      "cell_type": "code",
      "execution_count": null,
      "metadata": {
        "colab": {
          "base_uri": "https://localhost:8080/"
        },
        "id": "59d3054f",
        "outputId": "118fd3e6-7661-4a67-fb19-327e6cf4301b"
      },
      "outputs": [
        {
          "output_type": "stream",
          "name": "stdout",
          "text": [
            "Labels Train:\n",
            "\n",
            "Number of Items: [124800]\n",
            "1 unsigned byte per pixel from 0-25:\n",
            " [22, 6, 15, 14, 22, 16, 12, 10, 21, 23, 9, 13, 17, 20, 25, 20, 20, 23, 18, 4, 1, 24, 8, 4, 9, 20, 10, 23, 11, 0, 16, 8, 0, 23, 17, 0, 7, 3, 0, 8, 6, 20, 2, 15, 1, 19, 9, 11, 10, 19, 2, 5, 12, 14, 10, 3, 22, 11, 20, 0, 15, 13, 22, 9, 4, 11, 5, 1, 1, 0, 1, 0, 1, 7, 20, 12, 23, 4, 6, 6, 21, 23, 4, 19, 18, 11, 4, 2, 7, 25, 10, 25, 7, 15, 9, 7, 25, 11, 24, 8]\n",
            "\n",
            "\n",
            "Labels Test:\n",
            "\n",
            "Number of Items: [20800]\n",
            "1 unsigned byte per pixel from 0-25:\n",
            " [0, 0, 0, 0, 0, 0, 0, 0, 0, 0, 0, 0, 0, 0, 0, 0, 0, 0, 0, 0, 0, 0, 0, 0, 0, 0, 0, 0, 0, 0, 0, 0, 0, 0, 0, 0, 0, 0, 0, 0, 0, 0, 0, 0, 0, 0, 0, 0, 0, 0, 0, 0, 0, 0, 0, 0, 0, 0, 0, 0, 0, 0, 0, 0, 0, 0, 0, 0, 0, 0, 0, 0, 0, 0, 0, 0, 0, 0, 0, 0, 0, 0, 0, 0, 0, 0, 0, 0, 0, 0, 0, 0, 0, 0, 0, 0, 0, 0, 0, 0]\n",
            "\n",
            "\n"
          ]
        }
      ],
      "source": [
        "# Read the first few bytes initially, and then use file.read to get the rest of the file\n",
        " \n",
        "# read first label file\n",
        "with open(\"hw3-letters-train-labels-idx1-ubyte\", \"rb\") as label1_file:\n",
        "    \n",
        "    contents1 = label1_file.read(4)\n",
        "    contents2 = label1_file.read()\n",
        "    nmp1 = np.frombuffer(contents1, dtype=\">i4\", count = 1)\n",
        "    label1_file.seek(4)\n",
        "    train_label_data = np.frombuffer(contents2, dtype=\">i1\")\n",
        "    train_label_data = [(x-1) for x in train_label_data]\n",
        "    \n",
        "    print(\"Labels Train:\\n\")\n",
        "    print(\"Number of Items:\", nmp1)\n",
        "    print(\"1 unsigned byte per pixel from 0-25:\\n\", train_label_data[0:100])\n",
        "    print(\"\\n\")\n",
        "    \n",
        "# read second label file\n",
        "with open(\"hw3-letters-test-labels-idx1-ubyte\", \"rb\") as label2_file:\n",
        "    \n",
        "    contents1 = label2_file.read(4)\n",
        "    contents2 = label2_file.read()\n",
        "\n",
        "    nmp1 = np.frombuffer(contents1, dtype=\">i4\", count = 1)\n",
        "    label2_file.seek(4)\n",
        "    test_label_data = np.frombuffer(contents2, dtype=\">i1\")\n",
        "    test_label_data = [(x-1) for x in test_label_data]\n",
        "    print(\"Labels Test:\\n\")\n",
        "    print(\"Number of Items:\", nmp1)\n",
        "    print(\"1 unsigned byte per pixel from 0-25:\\n\", test_label_data[0:100])\n",
        "    print(\"\\n\")"
      ],
      "id": "59d3054f"
    },
    {
      "cell_type": "markdown",
      "metadata": {
        "id": "5620c7fc"
      },
      "source": [
        "### Image Files\n",
        "#### The image files have a 4 byte integer for the number of images, followed by a 4 byte integer for number of row, followed by a 4 byte integer for number of columns, followed by 1 unsigned byte per pixel (0-255, white -> black) "
      ],
      "id": "5620c7fc"
    },
    {
      "cell_type": "code",
      "execution_count": null,
      "metadata": {
        "colab": {
          "base_uri": "https://localhost:8080/"
        },
        "id": "44942f14",
        "outputId": "d21cbf42-dde9-4903-f7ad-23ddaaed929d"
      },
      "outputs": [
        {
          "output_type": "stream",
          "name": "stdout",
          "text": [
            "Image Train:\n",
            "\n",
            "Number of Images: [124800]\n",
            "Number of Rows: [28]\n",
            "Number of Columns: [28]\n",
            "1 unsigned byte per pixel from 0-255:\n",
            " [[[0 0 0 ... 0 0 0]\n",
            "  [0 0 0 ... 0 0 0]\n",
            "  [0 0 0 ... 0 0 0]\n",
            "  ...\n",
            "  [0 0 0 ... 0 0 0]\n",
            "  [0 0 0 ... 0 0 0]\n",
            "  [0 0 0 ... 0 0 0]]\n",
            "\n",
            " [[0 0 0 ... 0 0 0]\n",
            "  [0 0 0 ... 0 0 0]\n",
            "  [0 0 0 ... 0 0 0]\n",
            "  ...\n",
            "  [0 0 0 ... 0 0 0]\n",
            "  [0 0 0 ... 0 0 0]\n",
            "  [0 0 0 ... 0 0 0]]\n",
            "\n",
            " [[0 0 0 ... 0 0 0]\n",
            "  [0 0 0 ... 0 0 0]\n",
            "  [0 0 0 ... 0 0 0]\n",
            "  ...\n",
            "  [0 0 0 ... 0 0 0]\n",
            "  [0 0 0 ... 0 0 0]\n",
            "  [0 0 0 ... 0 0 0]]\n",
            "\n",
            " ...\n",
            "\n",
            " [[0 0 0 ... 0 0 0]\n",
            "  [0 0 0 ... 0 0 0]\n",
            "  [0 0 0 ... 0 0 0]\n",
            "  ...\n",
            "  [0 0 0 ... 0 0 0]\n",
            "  [0 0 0 ... 0 0 0]\n",
            "  [0 0 0 ... 0 0 0]]\n",
            "\n",
            " [[0 0 0 ... 0 0 0]\n",
            "  [0 0 0 ... 0 0 0]\n",
            "  [0 0 0 ... 0 0 0]\n",
            "  ...\n",
            "  [0 0 0 ... 0 0 0]\n",
            "  [0 0 0 ... 0 0 0]\n",
            "  [0 0 0 ... 0 0 0]]\n",
            "\n",
            " [[0 0 0 ... 0 0 0]\n",
            "  [0 0 0 ... 0 0 0]\n",
            "  [0 0 0 ... 0 0 0]\n",
            "  ...\n",
            "  [0 0 0 ... 0 0 0]\n",
            "  [0 0 0 ... 0 0 0]\n",
            "  [0 0 0 ... 0 0 0]]]\n",
            "\n",
            "\n",
            "Image Test:\n",
            "\n",
            "Number of Images: [20800]\n",
            "Number of Rows: [28]\n",
            "Number of Columns: [28]\n",
            "1 unsigned byte per pixel from 0-255:\n",
            " [[[0 0 0 ... 0 0 0]\n",
            "  [0 0 0 ... 0 0 0]\n",
            "  [0 0 0 ... 0 0 0]\n",
            "  ...\n",
            "  [0 0 0 ... 0 0 0]\n",
            "  [0 0 0 ... 0 0 0]\n",
            "  [0 0 0 ... 0 0 0]]\n",
            "\n",
            " [[0 0 0 ... 0 0 0]\n",
            "  [0 0 0 ... 0 0 0]\n",
            "  [0 0 0 ... 0 0 0]\n",
            "  ...\n",
            "  [0 0 0 ... 0 0 0]\n",
            "  [0 0 0 ... 0 0 0]\n",
            "  [0 0 0 ... 0 0 0]]\n",
            "\n",
            " [[0 0 0 ... 0 0 0]\n",
            "  [0 0 0 ... 0 0 0]\n",
            "  [0 0 0 ... 0 0 0]\n",
            "  ...\n",
            "  [0 0 0 ... 0 0 0]\n",
            "  [0 0 0 ... 0 0 0]\n",
            "  [0 0 0 ... 0 0 0]]\n",
            "\n",
            " ...\n",
            "\n",
            " [[0 0 0 ... 0 0 0]\n",
            "  [0 0 0 ... 0 0 0]\n",
            "  [0 0 0 ... 0 0 0]\n",
            "  ...\n",
            "  [0 0 0 ... 0 0 0]\n",
            "  [0 0 0 ... 0 0 0]\n",
            "  [0 0 0 ... 0 0 0]]\n",
            "\n",
            " [[0 0 0 ... 0 0 0]\n",
            "  [0 0 0 ... 0 0 0]\n",
            "  [0 0 0 ... 0 0 0]\n",
            "  ...\n",
            "  [0 0 0 ... 0 0 0]\n",
            "  [0 0 0 ... 0 0 0]\n",
            "  [0 0 0 ... 0 0 0]]\n",
            "\n",
            " [[0 0 0 ... 0 0 0]\n",
            "  [0 0 0 ... 0 0 0]\n",
            "  [0 0 0 ... 5 0 0]\n",
            "  ...\n",
            "  [0 0 0 ... 0 0 0]\n",
            "  [0 0 0 ... 0 0 0]\n",
            "  [0 0 0 ... 0 0 0]]]\n"
          ]
        }
      ],
      "source": [
        "# First Image File\n",
        "with open(\"hw3-letters-train-images-idx3-ubyte\", \"rb\") as image1_file:\n",
        "    \n",
        "    contents1 = image1_file.read(4)\n",
        "    image1_file.seek(4)\n",
        "    contents2 = image1_file.read(4)\n",
        "    image1_file.seek(8)\n",
        "    contents3 = image1_file.read(4)\n",
        "    image1_file.seek(12)\n",
        "    contents4 = image1_file.read() # after the first 12 bytes do a regular f.read\n",
        "\n",
        "    nmp1 = np.frombuffer(contents1, dtype=\">i4\", count = 1)\n",
        "    nmp2 = np.frombuffer(contents2, dtype=\">i4\", count = 1)\n",
        "    nmp3 = np.frombuffer(contents3, dtype=\">i4\", count = 1)\n",
        "    train_image_data = np.frombuffer(contents4, dtype=\">i1\")\n",
        "    \n",
        "    train_image_data = train_image_data.reshape(nmp1[0], nmp2[0], nmp3[0])\n",
        "    \n",
        "    print(\"Image Train:\\n\")\n",
        "    print(\"Number of Images:\", nmp1)\n",
        "    print(\"Number of Rows:\", nmp2)\n",
        "    print(\"Number of Columns:\",nmp3)\n",
        "    print(\"1 unsigned byte per pixel from 0-255:\\n\",train_image_data[0:100])\n",
        "    print(\"\\n\")\n",
        "    \n",
        "# Second Image file\n",
        "with open(\"hw3-letters-test-images-idx3-ubyte\", \"rb\") as image1_file:\n",
        "    \n",
        "    contents1 = image1_file.read(4)\n",
        "    image1_file.seek(4)\n",
        "    contents2 = image1_file.read(4)\n",
        "    image1_file.seek(8)\n",
        "    contents3 = image1_file.read(4)\n",
        "    image1_file.seek(12)\n",
        "    contents4 = image1_file.read() # after the first 12 bytes do a regular f.read\n",
        "\n",
        "    nmp1 = np.frombuffer(contents1, dtype=\">i4\", count = 1)\n",
        "    nmp2 = np.frombuffer(contents2, dtype=\">i4\", count = 1)\n",
        "    nmp3 = np.frombuffer(contents3, dtype=\">i4\", count = 1)\n",
        "    test_image_data = np.frombuffer(contents4, dtype=\">i1\")\n",
        "    test_image_data = test_image_data.reshape(nmp1[0], nmp2[0], nmp3[0])\n",
        "    \n",
        "    print(\"Image Test:\\n\")\n",
        "    print(\"Number of Images:\", nmp1)\n",
        "    print(\"Number of Rows:\", nmp2)\n",
        "    print(\"Number of Columns:\",nmp3)\n",
        "    print(\"1 unsigned byte per pixel from 0-255:\\n\",test_image_data[0:10])\n",
        "\n",
        "\n",
        "# value should be from 0-255\n",
        "# shape should be 28x28 & > 124,000\n",
        "#plot images with the labels\n",
        "#images should look like letters and labels should match up\n",
        "# convert images to floating type"
      ],
      "id": "44942f14"
    },
    {
      "cell_type": "markdown",
      "metadata": {
        "id": "38a0a8af"
      },
      "source": [
        "# Create a child class for torch.utils.data.Dataset "
      ],
      "id": "38a0a8af"
    },
    {
      "cell_type": "code",
      "execution_count": null,
      "metadata": {
        "id": "1690b9a5"
      },
      "outputs": [],
      "source": [
        "class CustomImageDataset(Dataset):\n",
        "    def __init__(self, label_file, img_file):\n",
        "      with open(label_file, \"rb\") as label1_file:\n",
        "        contents1 = label1_file.read(4)\n",
        "        contents2 = label1_file.read()\n",
        "        \n",
        "        nmp1 = np.frombuffer(contents1, dtype=\">i4\", count = 1)\n",
        "        label1_file.seek(4)\n",
        "        label_data = np.frombuffer(contents2, dtype=\">i1\")\n",
        "        \n",
        "        label_data = np.array([(x-1) for x in label_data])\n",
        "        \n",
        "        self.labels = label_data\n",
        "\n",
        "      with open(img_file, \"rb\") as image1_file:\n",
        "        contents1 = image1_file.read(4)\n",
        "        image1_file.seek(4)\n",
        "        contents2 = image1_file.read(4)\n",
        "        image1_file.seek(8)\n",
        "        contents3 = image1_file.read(4)\n",
        "        image1_file.seek(12)\n",
        "        contents4 = image1_file.read()\n",
        "\n",
        "        nmp1 = np.frombuffer(contents1, dtype=\">i4\", count = 1)\n",
        "        nmp2 = np.frombuffer(contents2, dtype=\">i4\", count = 1)\n",
        "        nmp3 = np.frombuffer(contents3, dtype=\">i4\", count = 1)\n",
        "        image_data = np.frombuffer(contents4, dtype=\">i1\")\n",
        "        \n",
        "        image_data = image_data.reshape(nmp1[0], nmp2[0], nmp3[0])\n",
        "        \n",
        "        self.images = image_data\n",
        "\n",
        "    def __len__(self):\n",
        "        return len(self.labels)\n",
        "\n",
        "    def __getitem__(self, idx):\n",
        "        image = self.images[idx]\n",
        "        label = self.labels[idx]\n",
        "        return (image, label)"
      ],
      "id": "1690b9a5"
    },
    {
      "cell_type": "markdown",
      "metadata": {
        "id": "C9UQKqMkDuoA"
      },
      "source": [
        "### Helper Functions"
      ],
      "id": "C9UQKqMkDuoA"
    },
    {
      "cell_type": "code",
      "execution_count": null,
      "metadata": {
        "id": "iJbqsCt5Dxgg"
      },
      "outputs": [],
      "source": [
        "# parameters\n",
        "RANDOM_SEED = 74\n",
        "LEARNING_RATE = 0.0001\n",
        "BATCH_SIZE = 1\n",
        "N_EPOCHS = 15\n",
        "\n",
        "IMG_SIZE = 28\n",
        "N_CLASSES = 26\n",
        "\n",
        "def get_accuracy(model, data_loader, device):\n",
        "    '''\n",
        "    Function for computing the accuracy of the predictions over the entire data_loader\n",
        "    '''\n",
        "    \n",
        "    correct_pred = 0 \n",
        "    n = 0\n",
        "    \n",
        "    with torch.no_grad():\n",
        "        model.eval()\n",
        "        for X, y_true in data_loader:\n",
        "\n",
        "            X = X.to(device)\n",
        "            y_true = y_true.to(device)\n",
        "\n",
        "            _, y_prob = model(X)\n",
        "            _, predicted_labels = torch.max(y_prob, 1)\n",
        "\n",
        "            n += y_true.size(0)\n",
        "            correct_pred += (predicted_labels == y_true).sum()\n",
        "\n",
        "    return correct_pred.float() / n\n",
        "\n",
        "def plot_losses(train_losses, valid_losses):\n",
        "    '''\n",
        "    Function for plotting training and validation losses\n",
        "    '''\n",
        "    \n",
        "    # temporarily change the style of the plots to seaborn \n",
        "    plt.style.use('seaborn')\n",
        "\n",
        "    train_losses = np.array(train_losses) \n",
        "    valid_losses = np.array(valid_losses)\n",
        "\n",
        "    fig, ax = plt.subplots(figsize = (8, 4.5))\n",
        "\n",
        "    ax.plot(train_losses, color='blue', label='Training loss') \n",
        "    ax.plot(valid_losses, color='red', label='Validation loss')\n",
        "    ax.set(title=\"Loss over epochs\", \n",
        "            xlabel='Epoch',\n",
        "            ylabel='Loss') \n",
        "    ax.legend()\n",
        "    fig.show()\n",
        "    \n",
        "    # change the plot style to default\n",
        "    plt.style.use('default')\n",
        "    \n",
        "def train(train_loader, model, criterion, optimizer, device):\n",
        "    '''\n",
        "    Function for the training step of the training loop\n",
        "    '''\n",
        "\n",
        "    model.train()\n",
        "    running_loss = 0\n",
        "    \n",
        "    for X, y_true in train_loader:\n",
        "\n",
        "        optimizer.zero_grad()\n",
        "        \n",
        "        X = X.to(device)\n",
        "        y_true = y_true.to(device)\n",
        "    \n",
        "        # Forward pass\n",
        "        y_hat, _ = model(X) \n",
        "        loss = criterion(y_hat, y_true) \n",
        "        running_loss += loss.item() * X.size(0)\n",
        "\n",
        "        # Backward pass\n",
        "        loss.backward()\n",
        "        optimizer.step()\n",
        "        \n",
        "    epoch_loss = running_loss / len(train_loader.dataset)\n",
        "    return model, optimizer, epoch_loss\n",
        "\n",
        "def validate(valid_loader, model, criterion, device):\n",
        "    '''\n",
        "    Function for the validation step of the training loop\n",
        "    '''\n",
        "   \n",
        "    model.eval()\n",
        "    running_loss = 0\n",
        "    \n",
        "    for X, y_true in valid_loader:\n",
        "    \n",
        "        X = X.to(device)\n",
        "        y_true = y_true.to(device)\n",
        "\n",
        "        # Forward pass and record loss\n",
        "        y_hat, _ = model(X) \n",
        "        loss = criterion(y_hat, y_true) \n",
        "        running_loss += loss.item() * X.size(0)\n",
        "\n",
        "    epoch_loss = running_loss / len(valid_loader.dataset)\n",
        "        \n",
        "    return model, epoch_loss\n",
        "\n",
        "def training_loop(model, criterion, optimizer, train_loader, valid_loader, epochs, device, print_every=1):\n",
        "    '''\n",
        "    Function defining the entire training loop\n",
        "    '''\n",
        "    \n",
        "    # set objects for storing metrics\n",
        "    best_loss = 1e10\n",
        "    train_losses = []\n",
        "    valid_losses = []\n",
        " \n",
        "    # Train model\n",
        "    for epoch in range(0, epochs):\n",
        "\n",
        "        # training\n",
        "        model, optimizer, train_loss = train(train_loader, model, criterion, optimizer, device)\n",
        "        train_losses.append(train_loss)\n",
        "\n",
        "        # validation\n",
        "        with torch.no_grad():\n",
        "            model, valid_loss = validate(valid_loader, model, criterion, device)\n",
        "            valid_losses.append(valid_loss)\n",
        "\n",
        "        if epoch % print_every == (print_every - 1):\n",
        "            \n",
        "            train_acc = get_accuracy(model, train_loader, device=device)\n",
        "            valid_acc = get_accuracy(model, valid_loader, device=device)\n",
        "                \n",
        "            print(f'{datetime.now().time().replace(microsecond=0)} --- '\n",
        "                  f'Epoch: {epoch}\\t'\n",
        "                  f'Train loss: {train_loss:.4f}\\t'\n",
        "                  f'Valid loss: {valid_loss:.4f}\\t'\n",
        "                  f'Train accuracy: {100 * train_acc:.2f}\\t'\n",
        "                  f'Valid accuracy: {100 * valid_acc:.2f}')\n",
        "\n",
        "    plot_losses(train_losses, valid_losses)\n",
        "    \n",
        "    return model, optimizer, (train_losses, valid_losses)"
      ],
      "id": "iJbqsCt5Dxgg"
    },
    {
      "cell_type": "markdown",
      "metadata": {
        "id": "uav33EJtghUV"
      },
      "source": [
        "### Load into DataLoaders"
      ],
      "id": "uav33EJtghUV"
    },
    {
      "cell_type": "code",
      "execution_count": null,
      "metadata": {
        "id": "4pklRKEuggFp"
      },
      "outputs": [],
      "source": [
        "trains = CustomImageDataset(label_file=\"hw3-letters-train-labels-idx1-ubyte\", img_file=\"hw3-letters-train-images-idx3-ubyte\")\n",
        "tests = CustomImageDataset(label_file=\"hw3-letters-test-labels-idx1-ubyte\", img_file=\"hw3-letters-test-images-idx3-ubyte\")"
      ],
      "id": "4pklRKEuggFp"
    },
    {
      "cell_type": "markdown",
      "metadata": {
        "id": "eeb7a747"
      },
      "source": [
        "# Plot at least 20 of the images using matplotlib.pyplot.imshow"
      ],
      "id": "eeb7a747"
    },
    {
      "cell_type": "code",
      "execution_count": null,
      "metadata": {
        "colab": {
          "base_uri": "https://localhost:8080/",
          "height": 248
        },
        "id": "3ec57c86",
        "outputId": "3ee226e6-aed6-4970-a9d4-ced480671f2c"
      },
      "outputs": [
        {
          "output_type": "display_data",
          "data": {
            "text/plain": [
              "<Figure size 432x288 with 20 Axes>"
            ],
            "image/png": "[encoded data removed]"
          },
          "metadata": {
            "needs_background": "light"
          }
        }
      ],
      "source": [
        "ROW_IMG = 5\n",
        "N_ROWS = 4\n",
        "fig = plt.figure()\n",
        "for i in range(1, ROW_IMG * N_ROWS + 1):\n",
        "    plt.subplot(N_ROWS, ROW_IMG, i)\n",
        "    plt.axis('off')\n",
        "    plt.imshow(trains.images[i])"
      ],
      "id": "3ec57c86"
    },
    {
      "cell_type": "markdown",
      "metadata": {
        "id": "67de1595"
      },
      "source": [
        "# Train a convolutional neural network to recognize the 26 letters"
      ],
      "id": "67de1595"
    },
    {
      "cell_type": "code",
      "execution_count": null,
      "metadata": {
        "id": "7dea7315"
      },
      "outputs": [],
      "source": [
        "class LeNet5(nn.Module):\n",
        "\n",
        "    def __init__(self, n_classes):\n",
        "        super(LeNet5, self).__init__()\n",
        "        \n",
        "        self.feature_extractor = nn.Sequential(            \n",
        "            nn.Conv2d(in_channels=1, out_channels=6, kernel_size=4, stride=1),\n",
        "            nn.Tanh(),\n",
        "            nn.AvgPool2d(kernel_size=2),\n",
        "            nn.Conv2d(in_channels=6, out_channels=16, kernel_size=4, stride=1),\n",
        "            nn.Tanh(),\n",
        "            nn.AvgPool2d(kernel_size=2),\n",
        "            nn.Conv2d(in_channels=16, out_channels=120, kernel_size=4, stride=1),\n",
        "            nn.Tanh()\n",
        "        )\n",
        "\n",
        "        self.classifier = nn.Sequential(\n",
        "            nn.Linear(in_features=120, out_features=84),\n",
        "            nn.Tanh(),\n",
        "            nn.Linear(in_features=84, out_features=n_classes),\n",
        "        )\n",
        "\n",
        "\n",
        "    def forward(self, x):\n",
        "        x = self.feature_extractor(x.unsqueeze(1))\n",
        "        x = torch.flatten(x, 1)\n",
        "        logits = self.classifier(x)\n",
        "        probs = F.softmax(logits, dim=1)\n",
        "        return logits, probs"
      ],
      "id": "7dea7315"
    },
    {
      "cell_type": "code",
      "execution_count": null,
      "metadata": {
        "colab": {
          "base_uri": "https://localhost:8080/"
        },
        "id": "F5lJCGmfhlwQ",
        "outputId": "0410e906-3da3-4403-8622-b7245f562a05"
      },
      "outputs": [
        {
          "output_type": "stream",
          "name": "stdout",
          "text": [
            "torch.LongTensor\n"
          ]
        }
      ],
      "source": [
        "torch.manual_seed(RANDOM_SEED)\n",
        "\n",
        "model = LeNet5(N_CLASSES).to(DEVICE)\n",
        "optimizer = torch.optim.Adam(model.parameters(), lr=LEARNING_RATE)\n",
        "criterion = nn.CrossEntropyLoss()\n",
        "\n",
        "# Labels are long integers, and images are floats\n",
        "trains.labels = torch.tensor(trains.labels, dtype=torch.long)\n",
        "tests.labels = torch.tensor(tests.labels, dtype=torch.long)\n",
        "trains.images = torch.tensor(trains.images, dtype = torch.float)\n",
        "tests.images = torch.tensor(tests.images,dtype = torch.float)\n",
        "print(trains.labels.type())"
      ],
      "id": "F5lJCGmfhlwQ"
    },
    {
      "cell_type": "markdown",
      "metadata": {
        "id": "iPr01jzzr5Ub"
      },
      "source": [
        "###Call DataLoader"
      ],
      "id": "iPr01jzzr5Ub"
    },
    {
      "cell_type": "code",
      "execution_count": null,
      "metadata": {
        "id": "gnVus41TvrtH"
      },
      "outputs": [],
      "source": [
        "train_dataloader = DataLoader(trains, batch_size=1, shuffle=True)\n",
        "test_dataloader = DataLoader(tests, batch_size=1, shuffle=False)"
      ],
      "id": "gnVus41TvrtH"
    },
    {
      "cell_type": "code",
      "execution_count": null,
      "metadata": {
        "colab": {
          "base_uri": "https://localhost:8080/",
          "height": 307
        },
        "id": "pUuO99S6hm4w",
        "outputId": "8f94b6db-ebee-4a41-cf0d-3ce888309f98"
      },
      "outputs": [
        {
          "output_type": "error",
          "ename": "KeyboardInterrupt",
          "evalue": "ignored",
          "traceback": [
            "\u001b[0;31m---------------------------------------------------------------------------\u001b[0m",
            "\u001b[0;31mKeyboardInterrupt\u001b[0m                         Traceback (most recent call last)",
            "\u001b[0;32m<ipython-input-12-4d9be376cfe5>\u001b[0m in \u001b[0;36m<module>\u001b[0;34m\u001b[0m\n\u001b[0;32m----> 1\u001b[0;31m \u001b[0mmodel\u001b[0m\u001b[0;34m,\u001b[0m \u001b[0moptimizer\u001b[0m\u001b[0;34m,\u001b[0m \u001b[0m_\u001b[0m \u001b[0;34m=\u001b[0m \u001b[0mtraining_loop\u001b[0m\u001b[0;34m(\u001b[0m\u001b[0mmodel\u001b[0m\u001b[0;34m,\u001b[0m \u001b[0mcriterion\u001b[0m\u001b[0;34m,\u001b[0m \u001b[0moptimizer\u001b[0m\u001b[0;34m,\u001b[0m \u001b[0mtrain_dataloader\u001b[0m\u001b[0;34m,\u001b[0m \u001b[0mtest_dataloader\u001b[0m\u001b[0;34m,\u001b[0m \u001b[0mN_EPOCHS\u001b[0m\u001b[0;34m,\u001b[0m \u001b[0mDEVICE\u001b[0m\u001b[0;34m)\u001b[0m\u001b[0;34m\u001b[0m\u001b[0;34m\u001b[0m\u001b[0m\n\u001b[0m",
            "\u001b[0;32m<ipython-input-6-26672dded850>\u001b[0m in \u001b[0;36mtraining_loop\u001b[0;34m(model, criterion, optimizer, train_loader, valid_loader, epochs, device, print_every)\u001b[0m\n\u001b[1;32m    118\u001b[0m \u001b[0;34m\u001b[0m\u001b[0m\n\u001b[1;32m    119\u001b[0m         \u001b[0;31m# training\u001b[0m\u001b[0;34m\u001b[0m\u001b[0;34m\u001b[0m\u001b[0;34m\u001b[0m\u001b[0m\n\u001b[0;32m--> 120\u001b[0;31m         \u001b[0mmodel\u001b[0m\u001b[0;34m,\u001b[0m \u001b[0moptimizer\u001b[0m\u001b[0;34m,\u001b[0m \u001b[0mtrain_loss\u001b[0m \u001b[0;34m=\u001b[0m \u001b[0mtrain\u001b[0m\u001b[0;34m(\u001b[0m\u001b[0mtrain_loader\u001b[0m\u001b[0;34m,\u001b[0m \u001b[0mmodel\u001b[0m\u001b[0;34m,\u001b[0m \u001b[0mcriterion\u001b[0m\u001b[0;34m,\u001b[0m \u001b[0moptimizer\u001b[0m\u001b[0;34m,\u001b[0m \u001b[0mdevice\u001b[0m\u001b[0;34m)\u001b[0m\u001b[0;34m\u001b[0m\u001b[0;34m\u001b[0m\u001b[0m\n\u001b[0m\u001b[1;32m    121\u001b[0m         \u001b[0mtrain_losses\u001b[0m\u001b[0;34m.\u001b[0m\u001b[0mappend\u001b[0m\u001b[0;34m(\u001b[0m\u001b[0mtrain_loss\u001b[0m\u001b[0;34m)\u001b[0m\u001b[0;34m\u001b[0m\u001b[0;34m\u001b[0m\u001b[0m\n\u001b[1;32m    122\u001b[0m \u001b[0;34m\u001b[0m\u001b[0m\n",
            "\u001b[0;32m<ipython-input-6-26672dded850>\u001b[0m in \u001b[0;36mtrain\u001b[0;34m(train_loader, model, criterion, optimizer, device)\u001b[0m\n\u001b[1;32m     76\u001b[0m \u001b[0;34m\u001b[0m\u001b[0m\n\u001b[1;32m     77\u001b[0m         \u001b[0;31m# Backward pass\u001b[0m\u001b[0;34m\u001b[0m\u001b[0;34m\u001b[0m\u001b[0;34m\u001b[0m\u001b[0m\n\u001b[0;32m---> 78\u001b[0;31m         \u001b[0mloss\u001b[0m\u001b[0;34m.\u001b[0m\u001b[0mbackward\u001b[0m\u001b[0;34m(\u001b[0m\u001b[0;34m)\u001b[0m\u001b[0;34m\u001b[0m\u001b[0;34m\u001b[0m\u001b[0m\n\u001b[0m\u001b[1;32m     79\u001b[0m         \u001b[0moptimizer\u001b[0m\u001b[0;34m.\u001b[0m\u001b[0mstep\u001b[0m\u001b[0;34m(\u001b[0m\u001b[0;34m)\u001b[0m\u001b[0;34m\u001b[0m\u001b[0;34m\u001b[0m\u001b[0m\n\u001b[1;32m     80\u001b[0m \u001b[0;34m\u001b[0m\u001b[0m\n",
            "\u001b[0;32m/usr/local/lib/python3.7/dist-packages/torch/_tensor.py\u001b[0m in \u001b[0;36mbackward\u001b[0;34m(self, gradient, retain_graph, create_graph, inputs)\u001b[0m\n\u001b[1;32m    394\u001b[0m                 \u001b[0mcreate_graph\u001b[0m\u001b[0;34m=\u001b[0m\u001b[0mcreate_graph\u001b[0m\u001b[0;34m,\u001b[0m\u001b[0;34m\u001b[0m\u001b[0;34m\u001b[0m\u001b[0m\n\u001b[1;32m    395\u001b[0m                 inputs=inputs)\n\u001b[0;32m--> 396\u001b[0;31m         \u001b[0mtorch\u001b[0m\u001b[0;34m.\u001b[0m\u001b[0mautograd\u001b[0m\u001b[0;34m.\u001b[0m\u001b[0mbackward\u001b[0m\u001b[0;34m(\u001b[0m\u001b[0mself\u001b[0m\u001b[0;34m,\u001b[0m \u001b[0mgradient\u001b[0m\u001b[0;34m,\u001b[0m \u001b[0mretain_graph\u001b[0m\u001b[0;34m,\u001b[0m \u001b[0mcreate_graph\u001b[0m\u001b[0;34m,\u001b[0m \u001b[0minputs\u001b[0m\u001b[0;34m=\u001b[0m\u001b[0minputs\u001b[0m\u001b[0;34m)\u001b[0m\u001b[0;34m\u001b[0m\u001b[0;34m\u001b[0m\u001b[0m\n\u001b[0m\u001b[1;32m    397\u001b[0m \u001b[0;34m\u001b[0m\u001b[0m\n\u001b[1;32m    398\u001b[0m     \u001b[0;32mdef\u001b[0m \u001b[0mregister_hook\u001b[0m\u001b[0;34m(\u001b[0m\u001b[0mself\u001b[0m\u001b[0;34m,\u001b[0m \u001b[0mhook\u001b[0m\u001b[0;34m)\u001b[0m\u001b[0;34m:\u001b[0m\u001b[0;34m\u001b[0m\u001b[0;34m\u001b[0m\u001b[0m\n",
            "\u001b[0;32m/usr/local/lib/python3.7/dist-packages/torch/autograd/__init__.py\u001b[0m in \u001b[0;36mbackward\u001b[0;34m(tensors, grad_tensors, retain_graph, create_graph, grad_variables, inputs)\u001b[0m\n\u001b[1;32m    173\u001b[0m     Variable._execution_engine.run_backward(  # Calls into the C++ engine to run the backward pass\n\u001b[1;32m    174\u001b[0m         \u001b[0mtensors\u001b[0m\u001b[0;34m,\u001b[0m \u001b[0mgrad_tensors_\u001b[0m\u001b[0;34m,\u001b[0m \u001b[0mretain_graph\u001b[0m\u001b[0;34m,\u001b[0m \u001b[0mcreate_graph\u001b[0m\u001b[0;34m,\u001b[0m \u001b[0minputs\u001b[0m\u001b[0;34m,\u001b[0m\u001b[0;34m\u001b[0m\u001b[0;34m\u001b[0m\u001b[0m\n\u001b[0;32m--> 175\u001b[0;31m         allow_unreachable=True, accumulate_grad=True)  # Calls into the C++ engine to run the backward pass\n\u001b[0m\u001b[1;32m    176\u001b[0m \u001b[0;34m\u001b[0m\u001b[0m\n\u001b[1;32m    177\u001b[0m def grad(\n",
            "\u001b[0;31mKeyboardInterrupt\u001b[0m: "
          ]
        }
      ],
      "source": [
        "model, optimizer, _ = training_loop(model, criterion, optimizer, train_dataloader, test_dataloader, N_EPOCHS, DEVICE)"
      ],
      "id": "pUuO99S6hm4w"
    },
    {
      "cell_type": "code",
      "source": [
        "model, optimizer, _ = training_loop(model, criterion, optimizer, train_dataloader, test_dataloader, N_EPOCHS, DEVICE)"
      ],
      "metadata": {
        "id": "f8b2ZeoqdJRb"
      },
      "id": "f8b2ZeoqdJRb",
      "execution_count": null,
      "outputs": []
    },
    {
      "cell_type": "markdown",
      "metadata": {
        "id": "b50f0fc9"
      },
      "source": [
        "# Compare the time to train the model with and without a hardware accelerator\n"
      ],
      "id": "b50f0fc9"
    },
    {
      "cell_type": "code",
      "execution_count": null,
      "metadata": {
        "id": "b269bc73"
      },
      "outputs": [],
      "source": [
        "# Without Hardware Acceleterator: 1 hour, 18 minutes, 47 seconds\n",
        "# With Hardware Accelerator: 2 hours, 4 minutes, and 21 seconds"
      ],
      "id": "b269bc73"
    },
    {
      "cell_type": "markdown",
      "metadata": {
        "id": "bd683298"
      },
      "source": [
        "# Output a confusion matrix of the test set with model"
      ],
      "id": "bd683298"
    },
    {
      "cell_type": "code",
      "execution_count": null,
      "metadata": {
        "id": "43fcb45d"
      },
      "outputs": [],
      "source": [
        "# Confusion Matrix and Classification Report\n",
        "# np.zeros([28, 28])\n",
        "tn, fp, fn, tp = confusion_matrix(tests.images, model).ravel()  # flattening the array and list expansion\n",
        "print(\"# of True Negatives: \", tn)\n",
        "print(\"# of False Positives: \", fp)\n",
        "print(\"# of False Negatives: \", fn)\n",
        "print(\"# of True Positives: \", tp)"
      ],
      "id": "43fcb45d"
    }
  ],
  "metadata": {
    "colab": {
      "provenance": []
    },
    "kernelspec": {
      "display_name": "Python 3 (ipykernel)",
      "language": "python",
      "name": "python3"
    },
    "language_info": {
      "codemirror_mode": {
        "name": "ipython",
        "version": 3
      },
      "file_extension": ".py",
      "mimetype": "text/x-python",
      "name": "python",
      "nbconvert_exporter": "python",
      "pygments_lexer": "ipython3",
      "version": "3.9.12"
    },
    "accelerator": "GPU"
  },
  "nbformat": 4,
  "nbformat_minor": 5
}